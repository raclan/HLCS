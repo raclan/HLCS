{
 "cells": [
  {
   "cell_type": "code",
   "execution_count": 1,
   "metadata": {},
   "outputs": [],
   "source": [
    "import requests\n",
    "import pandas as pd\n",
    "api_key = 'RGAPI-fd11efbd-d0f0-49f1-811b-a6f4d850c0c4' "
   ]
  },
  {
   "cell_type": "markdown",
   "metadata": {},
   "source": [
    "# Call API of one of the players to get match data"
   ]
  },
  {
   "cell_type": "code",
   "execution_count": 2,
   "metadata": {},
   "outputs": [],
   "source": [
    "my_puuid = requests.get('https://americas.api.riotgames.com/riot/account/v1/accounts/by-riot-id/ImJustShen/shenW?api_key=' + api_key).json()['puuid']\n",
    "my_matches = requests.get('https://americas.api.riotgames.com/lol/match/v5/matches/by-puuid/' + my_puuid + '/ids?start=0&count=20&api_key=' + api_key).json()\n",
    "match = requests.get('https://americas.api.riotgames.com/lol/match/v5/matches/' + my_matches[0] + '/?api_key=' + api_key).json()"
   ]
  },
  {
   "cell_type": "code",
   "execution_count": 63,
   "metadata": {},
   "outputs": [],
   "source": []
  },
  {
   "cell_type": "code",
   "execution_count": 15,
   "metadata": {},
   "outputs": [],
   "source": [
    "def get_match_json(match_id, api_key):\n",
    "    return requests.get('https://americas.api.riotgames.com/lol/match/v5/matches/' + match_id + '/?api_key=' + api_key).json()\n",
    "\n",
    "def raw_player_stats_from_match(match_json, puuid):    \n",
    "    return match_json['info']['participants'][match_json['metadata']['participants'].index(puuid)]\n",
    "\n",
    "def player_stats(raw_stats):\n",
    "    stat_cols = ['puuid', 'champion', 'kills', 'deaths', 'assists', 'cs', 'vision_score', 'damage_dealt', 'gold_earned', 'structure_damage', 'first_blood', 'first_tower']\n",
    "    toReturn = pd.DataFrame(columns=stat_cols)\n",
    "    \n",
    "    toReturn['puuid'] = [raw_stats['puuid']]\n",
    "    toReturn['champion'] = [raw_stats['championName']]\n",
    "    toReturn['kills'] = [raw_stats['kills']]\n",
    "    toReturn['deaths'] = [raw_stats['deaths']]\n",
    "    toReturn['assists'] = [raw_stats['assists']]\n",
    "    toReturn['cs'] = [raw_stats['neutralMinionsKilled'] + raw_stats['totalMinionsKilled']]\n",
    "    toReturn['vision_score'] = [raw_stats['visionScore']]\n",
    "    toReturn['damage_dealt'] = [raw_stats['totalDamageDealtToChampions']]\n",
    "    toReturn['gold_earned'] = [raw_stats['goldEarned']]\n",
    "    toReturn['structure_damage'] = [raw_stats['damageDealtToBuildings']]\n",
    "    toReturn['first_blood'] = [raw_stats['firstBloodKill']]\n",
    "    toReturn['first_tower'] = [raw_stats['firstTowerKill']]\n",
    "\n",
    "    return toReturn"
   ]
  },
  {
   "cell_type": "code",
   "execution_count": 12,
   "metadata": {},
   "outputs": [],
   "source": [
    "# raw_player_stats_from_match(get_match_json(my_matches[1], api_key), my_puuid)"
   ]
  },
  {
   "cell_type": "code",
   "execution_count": 16,
   "metadata": {},
   "outputs": [],
   "source": [
    "stat_cols = ['puuid', 'champion', 'kills', 'deaths', 'assists', 'cs', 'vision_score', 'damage_dealt', 'gold_earned', 'structure_damage', 'first_blood', 'first_tower']\n",
    "temp = pd.DataFrame(columns=stat_cols)\n",
    "temp2 = player_stats(raw_player_stats_from_match(get_match_json(my_matches[1], api_key), my_puuid))\n",
    "temp3 = player_stats(raw_player_stats_from_match(get_match_json(my_matches[2], api_key), my_puuid))"
   ]
  },
  {
   "cell_type": "code",
   "execution_count": 17,
   "metadata": {},
   "outputs": [
    {
     "name": "stderr",
     "output_type": "stream",
     "text": [
      "C:\\Users\\ryanr\\AppData\\Local\\Temp\\ipykernel_24944\\1789682812.py:1: FutureWarning: In a future version, object-dtype columns with all-bool values will not be included in reductions with bool_only=True. Explicitly cast to bool dtype instead.\n",
      "  pd.concat([pd.concat([temp, temp2]), temp3])\n"
     ]
    },
    {
     "data": {
      "text/html": [
       "<div>\n",
       "<style scoped>\n",
       "    .dataframe tbody tr th:only-of-type {\n",
       "        vertical-align: middle;\n",
       "    }\n",
       "\n",
       "    .dataframe tbody tr th {\n",
       "        vertical-align: top;\n",
       "    }\n",
       "\n",
       "    .dataframe thead th {\n",
       "        text-align: right;\n",
       "    }\n",
       "</style>\n",
       "<table border=\"1\" class=\"dataframe\">\n",
       "  <thead>\n",
       "    <tr style=\"text-align: right;\">\n",
       "      <th></th>\n",
       "      <th>puuid</th>\n",
       "      <th>champion</th>\n",
       "      <th>kills</th>\n",
       "      <th>deaths</th>\n",
       "      <th>assists</th>\n",
       "      <th>cs</th>\n",
       "      <th>vision_score</th>\n",
       "      <th>damage_dealt</th>\n",
       "      <th>gold_earned</th>\n",
       "      <th>structure_damage</th>\n",
       "      <th>first_blood</th>\n",
       "      <th>first_tower</th>\n",
       "    </tr>\n",
       "  </thead>\n",
       "  <tbody>\n",
       "    <tr>\n",
       "      <th>0</th>\n",
       "      <td>7_mWdesiziUP9QWe_JtNvCvF92TllPIzhIHRUHBCgVGTis...</td>\n",
       "      <td>Zilean</td>\n",
       "      <td>2</td>\n",
       "      <td>3</td>\n",
       "      <td>9</td>\n",
       "      <td>19</td>\n",
       "      <td>29</td>\n",
       "      <td>7164</td>\n",
       "      <td>6718</td>\n",
       "      <td>2170</td>\n",
       "      <td>False</td>\n",
       "      <td>False</td>\n",
       "    </tr>\n",
       "    <tr>\n",
       "      <th>0</th>\n",
       "      <td>7_mWdesiziUP9QWe_JtNvCvF92TllPIzhIHRUHBCgVGTis...</td>\n",
       "      <td>Udyr</td>\n",
       "      <td>1</td>\n",
       "      <td>1</td>\n",
       "      <td>6</td>\n",
       "      <td>83</td>\n",
       "      <td>15</td>\n",
       "      <td>4501</td>\n",
       "      <td>5089</td>\n",
       "      <td>0</td>\n",
       "      <td>False</td>\n",
       "      <td>False</td>\n",
       "    </tr>\n",
       "  </tbody>\n",
       "</table>\n",
       "</div>"
      ],
      "text/plain": [
       "                                               puuid champion kills deaths  \\\n",
       "0  7_mWdesiziUP9QWe_JtNvCvF92TllPIzhIHRUHBCgVGTis...   Zilean     2      3   \n",
       "0  7_mWdesiziUP9QWe_JtNvCvF92TllPIzhIHRUHBCgVGTis...     Udyr     1      1   \n",
       "\n",
       "  assists  cs vision_score damage_dealt gold_earned structure_damage  \\\n",
       "0       9  19           29         7164        6718             2170   \n",
       "0       6  83           15         4501        5089                0   \n",
       "\n",
       "  first_blood first_tower  \n",
       "0       False       False  \n",
       "0       False       False  "
      ]
     },
     "execution_count": 17,
     "metadata": {},
     "output_type": "execute_result"
    }
   ],
   "source": [
    "pd.concat([pd.concat([temp, temp2]), temp3])\n",
    "# missing Role, Pick Ban, Order, Series #, Game #, Fantasy Score"
   ]
  }
 ],
 "metadata": {
  "kernelspec": {
   "display_name": "Python 3",
   "language": "python",
   "name": "python3"
  },
  "language_info": {
   "codemirror_mode": {
    "name": "ipython",
    "version": 3
   },
   "file_extension": ".py",
   "mimetype": "text/x-python",
   "name": "python",
   "nbconvert_exporter": "python",
   "pygments_lexer": "ipython3",
   "version": "3.11.1"
  }
 },
 "nbformat": 4,
 "nbformat_minor": 2
}
