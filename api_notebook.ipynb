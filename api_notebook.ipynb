{
 "cells": [
  {
   "cell_type": "code",
   "execution_count": 67,
   "metadata": {},
   "outputs": [],
   "source": [
    "import requests\n",
    "import pandas as pd\n",
    "api_key = 'RGAPI-4d0d776f-255c-4448-ae35-45d8aefe3db9'"
   ]
  },
  {
   "cell_type": "code",
   "execution_count": 8,
   "metadata": {},
   "outputs": [],
   "source": [
    "my_puuid = requests.get('https://americas.api.riotgames.com/riot/account/v1/accounts/by-riot-id/ImJustShen/shenW?api_key=' + api_key).json()['puuid']"
   ]
  },
  {
   "cell_type": "code",
   "execution_count": 10,
   "metadata": {},
   "outputs": [],
   "source": [
    "my_matches = requests.get('https://americas.api.riotgames.com/lol/match/v5/matches/by-puuid/' + my_puuid + '/ids?start=0&count=20&api_key=' + api_key).json()"
   ]
  },
  {
   "cell_type": "code",
   "execution_count": 11,
   "metadata": {},
   "outputs": [
    {
     "data": {
      "text/plain": [
       "['NA1_4931779402',\n",
       " 'NA1_4931374098',\n",
       " 'NA1_4930633914',\n",
       " 'NA1_4930126728',\n",
       " 'NA1_4929900707',\n",
       " 'NA1_4929849567',\n",
       " 'NA1_4929827074',\n",
       " 'NA1_4929252441',\n",
       " 'NA1_4929223823',\n",
       " 'NA1_4929168389',\n",
       " 'NA1_4928535693',\n",
       " 'NA1_4928040463',\n",
       " 'NA1_4927769364',\n",
       " 'NA1_4927756388',\n",
       " 'NA1_4927748062',\n",
       " 'NA1_4927730026',\n",
       " 'NA1_4927709008',\n",
       " 'NA1_4926769565',\n",
       " 'NA1_4926755925',\n",
       " 'NA1_4926726234']"
      ]
     },
     "execution_count": 11,
     "metadata": {},
     "output_type": "execute_result"
    }
   ],
   "source": [
    "my_matches"
   ]
  },
  {
   "cell_type": "code",
   "execution_count": 63,
   "metadata": {},
   "outputs": [],
   "source": [
    "match = requests.get('https://americas.api.riotgames.com/lol/match/v5/matches/' + my_matches[1] + '/?api_key=' + api_key).json()"
   ]
  },
  {
   "cell_type": "code",
   "execution_count": 64,
   "metadata": {},
   "outputs": [],
   "source": [
    "my_stats = match['info']['participants'][match['metadata']['participants'].index(my_puuid)]"
   ]
  },
  {
   "cell_type": "code",
   "execution_count": 66,
   "metadata": {},
   "outputs": [],
   "source": [
    "# my_stats"
   ]
  },
  {
   "cell_type": "code",
   "execution_count": 96,
   "metadata": {},
   "outputs": [],
   "source": [
    "def get_match_json(match_id, api_key):\n",
    "    return requests.get('https://americas.api.riotgames.com/lol/match/v5/matches/' + match_id + '/?api_key=' + api_key).json()\n",
    "\n",
    "def raw_player_stats_from_match(match_json, puuid):    \n",
    "    return match_json['info']['participants'][match_json['metadata']['participants'].index(puuid)]\n",
    "\n",
    "def player_stats(raw_stats):\n",
    "    toReturn = pd.DataFrame(columns=['puuid', 'kills', 'deaths', 'assists', 'cs', 'vision_score', 'damage_dealt', 'gold_earned', 'structure_damage', 'first_blood', 'first_tower'])\n",
    "    \n",
    "    toReturn['puuid'] = [raw_stats['puuid']]\n",
    "    toReturn['kills'] = [raw_stats['kills']]\n",
    "    toReturn['deaths'] = [raw_stats['deaths']]\n",
    "    toReturn['assists'] = [raw_stats['assists']]\n",
    "    toReturn['cs'] = [raw_stats['neutralMinionsKilled'] + raw_stats['totalMinionsKilled']]\n",
    "    toReturn['vision_score'] = [raw_stats['visionScore']]\n",
    "    toReturn['damage_dealt'] = [raw_stats['totalDamageDealtToChampions']]\n",
    "    toReturn['gold_earned'] = [raw_stats['goldEarned']]\n",
    "    toReturn['structure_damage'] = [raw_stats['damageDealtToBuildings']]\n",
    "    toReturn['first_blood'] = [raw_stats['firstBloodKill']]\n",
    "    toReturn['first_tower'] = [raw_stats['firstTowerKill']]\n",
    "\n",
    "    return toReturn"
   ]
  },
  {
   "cell_type": "code",
   "execution_count": 97,
   "metadata": {},
   "outputs": [],
   "source": [
    "temp = pd.DataFrame(columns=['puuid', 'kills', 'deaths', 'assists', 'cs', 'vision_score', 'damage_dealt', 'gold_earned', 'structure_damage', 'first_blood', 'first_tower'])\n",
    "temp2 = player_stats(raw_player_stats_from_match(get_match_json(my_matches[1], api_key), my_puuid))\n",
    "temp3 = player_stats(raw_player_stats_from_match(get_match_json(my_matches[2], api_key), my_puuid))"
   ]
  },
  {
   "cell_type": "code",
   "execution_count": 98,
   "metadata": {},
   "outputs": [
    {
     "name": "stderr",
     "output_type": "stream",
     "text": [
      "C:\\Users\\ryanr\\AppData\\Local\\Temp\\ipykernel_12968\\1789682812.py:1: FutureWarning: In a future version, object-dtype columns with all-bool values will not be included in reductions with bool_only=True. Explicitly cast to bool dtype instead.\n",
      "  pd.concat([pd.concat([temp, temp2]), temp3])\n"
     ]
    },
    {
     "data": {
      "text/html": [
       "<div>\n",
       "<style scoped>\n",
       "    .dataframe tbody tr th:only-of-type {\n",
       "        vertical-align: middle;\n",
       "    }\n",
       "\n",
       "    .dataframe tbody tr th {\n",
       "        vertical-align: top;\n",
       "    }\n",
       "\n",
       "    .dataframe thead th {\n",
       "        text-align: right;\n",
       "    }\n",
       "</style>\n",
       "<table border=\"1\" class=\"dataframe\">\n",
       "  <thead>\n",
       "    <tr style=\"text-align: right;\">\n",
       "      <th></th>\n",
       "      <th>puuid</th>\n",
       "      <th>kills</th>\n",
       "      <th>deaths</th>\n",
       "      <th>assists</th>\n",
       "      <th>cs</th>\n",
       "      <th>vision_score</th>\n",
       "      <th>damage_dealt</th>\n",
       "      <th>gold_earned</th>\n",
       "      <th>structure_damage</th>\n",
       "      <th>first_blood</th>\n",
       "      <th>first_tower</th>\n",
       "    </tr>\n",
       "  </thead>\n",
       "  <tbody>\n",
       "    <tr>\n",
       "      <th>0</th>\n",
       "      <td>7_mWdesiziUP9QWe_JtNvCvF92TllPIzhIHRUHBCgVGTis...</td>\n",
       "      <td>2</td>\n",
       "      <td>3</td>\n",
       "      <td>9</td>\n",
       "      <td>19</td>\n",
       "      <td>29</td>\n",
       "      <td>7164</td>\n",
       "      <td>6718</td>\n",
       "      <td>2170</td>\n",
       "      <td>False</td>\n",
       "      <td>False</td>\n",
       "    </tr>\n",
       "    <tr>\n",
       "      <th>0</th>\n",
       "      <td>7_mWdesiziUP9QWe_JtNvCvF92TllPIzhIHRUHBCgVGTis...</td>\n",
       "      <td>1</td>\n",
       "      <td>1</td>\n",
       "      <td>6</td>\n",
       "      <td>83</td>\n",
       "      <td>15</td>\n",
       "      <td>4501</td>\n",
       "      <td>5089</td>\n",
       "      <td>0</td>\n",
       "      <td>False</td>\n",
       "      <td>False</td>\n",
       "    </tr>\n",
       "  </tbody>\n",
       "</table>\n",
       "</div>"
      ],
      "text/plain": [
       "                                               puuid kills deaths assists  cs  \\\n",
       "0  7_mWdesiziUP9QWe_JtNvCvF92TllPIzhIHRUHBCgVGTis...     2      3       9  19   \n",
       "0  7_mWdesiziUP9QWe_JtNvCvF92TllPIzhIHRUHBCgVGTis...     1      1       6  83   \n",
       "\n",
       "  vision_score damage_dealt gold_earned structure_damage first_blood  \\\n",
       "0           29         7164        6718             2170       False   \n",
       "0           15         4501        5089                0       False   \n",
       "\n",
       "  first_tower  \n",
       "0       False  \n",
       "0       False  "
      ]
     },
     "execution_count": 98,
     "metadata": {},
     "output_type": "execute_result"
    }
   ],
   "source": [
    "pd.concat([pd.concat([temp, temp2]), temp3])"
   ]
  }
 ],
 "metadata": {
  "kernelspec": {
   "display_name": "Python 3",
   "language": "python",
   "name": "python3"
  },
  "language_info": {
   "codemirror_mode": {
    "name": "ipython",
    "version": 3
   },
   "file_extension": ".py",
   "mimetype": "text/x-python",
   "name": "python",
   "nbconvert_exporter": "python",
   "pygments_lexer": "ipython3",
   "version": "3.11.1"
  }
 },
 "nbformat": 4,
 "nbformat_minor": 2
}
